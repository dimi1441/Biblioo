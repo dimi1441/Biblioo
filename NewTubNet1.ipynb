{
  "nbformat": 4,
  "nbformat_minor": 0,
  "metadata": {
    "accelerator": "GPU",
    "colab": {
      "name": "NewTubNet1.ipynb",
      "provenance": [],
      "collapsed_sections": [],
      "toc_visible": true,
      "include_colab_link": true
    },
    "kernelspec": {
      "display_name": "Python 3",
      "language": "python",
      "name": "python3"
    },
    "language_info": {
      "codemirror_mode": {
        "name": "ipython",
        "version": 3
      },
      "file_extension": ".py",
      "mimetype": "text/x-python",
      "name": "python",
      "nbconvert_exporter": "python",
      "pygments_lexer": "ipython3",
      "version": "3.6.9"
    }
  },
  "cells": [
    {
      "cell_type": "markdown",
      "metadata": {
        "id": "view-in-github",
        "colab_type": "text"
      },
      "source": [
        "<a href=\"https://colab.research.google.com/github/dimi1441/Biblioo/blob/master/NewTubNet1.ipynb\" target=\"_parent\"><img src=\"https://colab.research.google.com/assets/colab-badge.svg\" alt=\"Open In Colab\"/></a>"
      ]
    },
    {
      "cell_type": "markdown",
      "metadata": {
        "id": "_0fnKub-LNTd"
      },
      "source": [
        "# Projet: ReNet"
      ]
    },
    {
      "cell_type": "markdown",
      "metadata": {
        "id": "HpUGEwAgLNT1"
      },
      "source": [
        "## Description: ReNet est un projet dont l'idée principale est de dévélopper un modèle d'apprentissage artificiel du meme nom destiné à identifier des cas positifs et negatifs d'insuffisance rénale."
      ]
    },
    {
      "cell_type": "markdown",
      "metadata": {
        "id": "fmRSQc-kLNT3"
      },
      "source": [
        "## Obejectif: Remporter la compétition organisée par Zindi Africa."
      ]
    },
    {
      "cell_type": "markdown",
      "metadata": {
        "id": "YbItnkYzLNT4"
      },
      "source": [
        "### To Do\n",
        "\n",
        "1) Mettre à jour la librairie Pillow pour pouvoir utiliser transforms.Rotation()\n",
        "2) Intégrer la validation croisée.\n",
        "2) Ecrire le code qui vanous donner l'AUC\n",
        "3) Montrer le graphe de complexité à Apache\n",
        "4) Rendre le projet exécutable partout\n",
        "5) Initialiser le dépot éventuellement\n",
        "6) Faire une soumission\n",
        "7) Faire du transfert learning\n",
        "8) Faire une autre soumission"
      ]
    },
    {
      "cell_type": "markdown",
      "metadata": {
        "id": "hm6_dxjhLNT8"
      },
      "source": [
        "### Import"
      ]
    },
    {
      "cell_type": "code",
      "metadata": {
        "id": "25TZ_6gWLNT9",
        "outputId": "5c7d2872-1de9-4cfa-e6dc-880d990d0efc",
        "colab": {
          "base_uri": "https://localhost:8080/"
        }
      },
      "source": [
        "import os\n",
        "import torch\n",
        "from torch import nn, optim\n",
        "from torch.optim.lr_scheduler import ReduceLROnPlateau\n",
        "from torch.utils.data import DataLoader, Dataset\n",
        "from torchvision import transforms, datasets, models\n",
        "from sklearn.metrics import roc_auc_score\n",
        "from sklearn.model_selection import KFold\n",
        "import time\n",
        "import matplotlib.pyplot as plt\n",
        "import pandas as pd\n",
        "import numpy as np\n",
        "import helper\n",
        "from PIL import Image\n",
        "import random\n",
        "from zipfile import ZipFile\n",
        "!pip install -q git+https://github.com/eaedk/testing-zindi-package.git\n",
        "from zindi.user import Zindian"
      ],
      "execution_count": 58,
      "outputs": [
        {
          "output_type": "stream",
          "text": [
            "  Building wheel for zindi (setup.py) ... \u001b[?25l\u001b[?25hdone\n"
          ],
          "name": "stdout"
        }
      ]
    },
    {
      "cell_type": "markdown",
      "metadata": {
        "id": "6hzGd2xNLXlT"
      },
      "source": [
        "### Loading data"
      ]
    },
    {
      "cell_type": "code",
      "metadata": {
        "id": "98qIv7UDLNT7",
        "outputId": "9782720a-f4c5-4429-b809-6d1664e10c06",
        "colab": {
          "base_uri": "https://localhost:8080/"
        }
      },
      "source": [
        "# create a user object\n",
        "my_username = \"Dikam\"\n",
        "user = Zindian(username = my_username)\n",
        "\n",
        "# Choose challenge\n",
        "user.select_a_challenge(fixed_index=15)\n",
        "\n",
        "# Download dataset\n",
        "user.download_dataset(\"./input/\")\n",
        "\n",
        "# Decompress data file\n",
        "file = ZipFile(\"./input/images.zip\")\n",
        "file.extractall(\"./input/\")"
      ],
      "execution_count": 59,
      "outputs": [
        {
          "output_type": "stream",
          "text": [
            "Your password\n",
            ">> ··········\n",
            "\n",
            "[ 🟢 ] 👋🏾👋🏾 Welcome Dikam 👋🏾👋🏾\n",
            "\n",
            "\n",
            "[ 🟢 ] You choose the challenge : cameroon-advance-analytic-ultrasound-image-challenge,\n",
            "\tGiven ultrasounds of kidneys can you detect renal failure?.\n",
            "\n"
          ],
          "name": "stdout"
        },
        {
          "output_type": "stream",
          "text": [
            "./input/images.zip: 100%|██████████| 15.3M/15.3M [00:02<00:00, 6.59Mo/s]\n",
            "./input/Train.csv: 100%|██████████| 1.58k/1.58k [00:00<00:00, 668ko/s]\n",
            "./input/Test.csv: 100%|██████████| 484/484 [00:00<00:00, 125ko/s]\n",
            "./input/SampleSubmission.csv: 100%|██████████| 525/525 [00:00<00:00, 134ko/s]\n"
          ],
          "name": "stderr"
        }
      ]
    },
    {
      "cell_type": "code",
      "metadata": {
        "id": "zFYVA1nBSZ4v"
      },
      "source": [
        ""
      ],
      "execution_count": 59,
      "outputs": []
    },
    {
      "cell_type": "markdown",
      "metadata": {
        "id": "UWCSVimhLNT_"
      },
      "source": [
        "### Reproductibility"
      ]
    },
    {
      "cell_type": "code",
      "metadata": {
        "id": "bbHGEChwLNT_"
      },
      "source": [
        "def seed_everything(seed=46):\n",
        "    random.seed(seed)\n",
        "    os.environ['PYTHONHASHSEED'] = str(seed)\n",
        "    np.random.seed(seed)\n",
        "    torch.manual_seed(seed)\n",
        "    torch.cuda.manual_seed(seed)\n",
        "    torch.backends.cudnn.deterministic = True\n",
        "    #torch.backends.cudnn.benchmark = False\n",
        "seed_everything()"
      ],
      "execution_count": 60,
      "outputs": []
    },
    {
      "cell_type": "markdown",
      "metadata": {
        "id": "z_IEjNLwLNUB"
      },
      "source": [
        "### Preprocessing"
      ]
    },
    {
      "cell_type": "code",
      "metadata": {
        "id": "P4tVa4enLNUE"
      },
      "source": [
        "trans_crop =800\n",
        "resize = 224\n",
        "batch_size = 1\n",
        "shuffle=True\n",
        "k_folds = 3\n",
        "smoothing = 0.0\n",
        "num_class = 1\n",
        "dir = \"/content/input/\"\n",
        "model_folder = \"/content/output/models/\"\n",
        "data_dir = '/content/input/CAMAIRAI BOX READY'"
      ],
      "execution_count": 61,
      "outputs": []
    },
    {
      "cell_type": "code",
      "metadata": {
        "id": "fyyR-YAtLNUF"
      },
      "source": [
        "# convert data to a normalized torch.FloatTensor\n",
        "train_transforms = transforms.Compose([\n",
        "    transforms.RandomAffine(0, translate=(0.05, 0.05)),\n",
        "    transforms.CenterCrop(trans_crop),\n",
        "    transforms.Resize(resize),\n",
        "    transforms.RandomRotation(40), # Invariant àde faibles rotation\n",
        "    transforms.RandomHorizontalFlip(), # Invariant au miroir, il faut aussi qu'il soit invariant à l'echelle\n",
        "    transforms.ToTensor(),\n",
        "    transforms.Normalize([0.485, 0.456, 0.406], [0.229, 0.224, 0.225])\n",
        "])\n",
        "\n",
        "test_transforms = transforms.Compose([\n",
        "    transforms.CenterCrop(trans_crop),\n",
        "    transforms.Resize(resize),\n",
        "    transforms.ToTensor(),\n",
        "    transforms.Normalize([0.485, 0.456, 0.406], [0.229, 0.224, 0.225])\n",
        "])"
      ],
      "execution_count": 62,
      "outputs": []
    },
    {
      "cell_type": "code",
      "metadata": {
        "id": "TDdQUuhhSTq7"
      },
      "source": [
        "class RenaleDataset(Dataset):\n",
        "    def __init__(self, root_dir, annotation_file, transform, smoothing=0.0, num_class=1, trainning=True):\n",
        "        self.root_dir = root_dir\n",
        "        self.annotations = pd.read_csv(annotation_file)\n",
        "        self.annotations[\"img_IDs\"] = self.annotations[\"img_IDs\"] + \".jpg\"\n",
        "        self.transform = transform\n",
        "        self.trainning = trainning\n",
        "        self.smoothing = smoothing\n",
        "        self.num_class = num_class\n",
        "    def __len__(self):\n",
        "        return len(self.annotations)\n",
        "\n",
        "    def __getitem__(self, index):\n",
        "        img_id = self.annotations.iloc[index, 0]\n",
        "        img = Image.open(os.path.join(self.root_dir, img_id)).convert(\"RGB\")\n",
        "        img = self.transform(img)\n",
        "        if self.trainning == True:\n",
        "            y_label = torch.tensor(float((1 - self.smoothing)*self.annotations.iloc[index, 1] + self.smoothing/self.num_class))\n",
        "            return (img, y_label)\n",
        "        else:\n",
        "            return img"
      ],
      "execution_count": 63,
      "outputs": []
    },
    {
      "cell_type": "code",
      "metadata": {
        "id": "Pedh3rW3LNUH"
      },
      "source": [
        "# Pass transforms in here, then run the next cell to see how the transforms look\n",
        "dt = RenaleDataset(data_dir, dir+\"Train.csv\", transform=train_transforms, smoothing=smoothing, num_class=num_class)\n",
        "\n",
        "def dataset(dt, train_subsampler, test_subsampler):\n",
        "    \n",
        "    train_loader = torch.utils.data.DataLoader(\n",
        "                      dt, \n",
        "                      batch_size=batch_size, sampler=train_subsampler)\n",
        "    test_loader = torch.utils.data.DataLoader(\n",
        "                      dt,\n",
        "                      batch_size=batch_size, sampler=test_subsampler)\n",
        "    \n",
        "    test_set = RenaleDataset(data_dir, dir+\"Test.csv\", transform=test_transforms, trainning=False)\n",
        "    \n",
        "    return train_loader, test_loader, DataLoader(dataset=test_set, shuffle=False, batch_size=batch_size)"
      ],
      "execution_count": 64,
      "outputs": []
    },
    {
      "cell_type": "markdown",
      "metadata": {
        "id": "oGV5zovTLNUH"
      },
      "source": [
        "### Visualisation"
      ]
    },
    {
      "cell_type": "code",
      "metadata": {
        "id": "t6-YEMqHLNUH"
      },
      "source": [
        ""
      ],
      "execution_count": 64,
      "outputs": []
    },
    {
      "cell_type": "markdown",
      "metadata": {
        "id": "reOR2HjhLNUK"
      },
      "source": [
        "### Model"
      ]
    },
    {
      "cell_type": "code",
      "metadata": {
        "id": "fWiaMYZTLNUL",
        "outputId": "463f4d26-643e-4fb9-aa71-5b7c85671e14",
        "colab": {
          "base_uri": "https://localhost:8080/"
        }
      },
      "source": [
        "# Use GPU if it's available\n",
        "device = torch.device(\"cuda\" if torch.cuda.is_available() else \"cpu\")\n",
        "\n",
        "# Model\n",
        "#resnet18 = models.resnet18(pretrained=True)\n",
        "#alexnet = models.alexnet(pretrained=True)\n",
        "#vgg16 = models.vgg16_bn(pretrained=True)\n",
        "#vgg16.classifier = nn.Sequential(nn.Linear(vgg16.classifier[0].in_features, 1), nn.Sigmoid())\n",
        "#squeezenet = models.squeezenet1_0(pretrained=True)\n",
        "#densenet = models.densenet161(pretrained=True)\n",
        "#inception = models.inception_v3(pretrained=True)\n",
        "#googlenet = models.googlenet(pretrained=True)\n",
        "#shufflenet = models.shufflenet_v2_x1_0(pretrained=True)\n",
        "#mobilenet_v2 = models.mobilenet_v2(pretrained=True)\n",
        "model_ft = models.vgg11_bn(pretrained=True)\n",
        "model_ft.classifier = nn.Sequential(nn.Linear(model_ft.classifier[0].in_features, 1), nn.Sigmoid())\n",
        "#model_class = CNN(True, 1)\n",
        "\n",
        "model = model_ft\n",
        "model.to(device)\n",
        "\n",
        "# Adam Optimizer with learning rate decay\n",
        "optimizer = optim.Adam(model.parameters(), lr=0.0001, betas=(0.9, 0.999), eps=1e-08, weight_decay=1e-5)\n",
        "scheduler = ReduceLROnPlateau(optimizer, factor = 0.1, patience = 5, mode = 'min')\n",
        "\n",
        "# Binary cross entropy loss\n",
        "criterion = torch.nn.BCELoss(size_average = True, reduction='mean')"
      ],
      "execution_count": 65,
      "outputs": [
        {
          "output_type": "stream",
          "text": [
            "/usr/local/lib/python3.7/dist-packages/torch/nn/_reduction.py:42: UserWarning: size_average and reduce args will be deprecated, please use reduction='mean' instead.\n",
            "  warnings.warn(warning.format(ret))\n"
          ],
          "name": "stderr"
        }
      ]
    },
    {
      "cell_type": "markdown",
      "metadata": {
        "id": "Muu8KMm5LNUL"
      },
      "source": [
        "### Train"
      ]
    },
    {
      "cell_type": "code",
      "metadata": {
        "id": "8Ynopxm8gyLw",
        "outputId": "21053fcc-39a3-43f2-c457-61d2d997e9d5",
        "colab": {
          "base_uri": "https://localhost:8080/"
        }
      },
      "source": [
        "# Create the directory containing the models\n",
        "try:\n",
        "  os.makedirs(model_folder[0:-1])\n",
        "except:\n",
        "  print(\"Directory already exist or the creation failed\")"
      ],
      "execution_count": 66,
      "outputs": [
        {
          "output_type": "stream",
          "text": [
            "Directory already exist or the creation failed\n"
          ],
          "name": "stdout"
        }
      ]
    },
    {
      "cell_type": "code",
      "metadata": {
        "id": "ITbz_Ak8LNUM"
      },
      "source": [
        "def train_epoch(data_loader):\n",
        "    model.train()\n",
        "    train_loss = 0.0\n",
        "    for inputs, labels in data_loader:\n",
        "        # Move input and label tensors to the default device\n",
        "        inputs, labels = inputs.to(device), labels.to(device)\n",
        "        \n",
        "        optimizer.zero_grad()\n",
        "        outputs = model.forward(inputs)\n",
        "        outputs = outputs.reshape(-1)\n",
        "        loss = criterion(outputs, labels)\n",
        "        loss.backward()\n",
        "        optimizer.step()\n",
        "        train_loss += loss.item() \n",
        "    return train_loss/len(data_loader.sampler)\n",
        "\n",
        "def validation_epoch(data_loader):\n",
        "    model.eval()\n",
        "    valid_loss = 0.0\n",
        "    for inputs, labels in data_loader:\n",
        "                 \n",
        "        inputs, labels = inputs.to(device), labels.to(device)\n",
        "        outputs = model.forward(inputs)\n",
        "        outputs = outputs.reshape(-1)\n",
        "        loss = criterion(outputs, labels)\n",
        "        \n",
        "        valid_loss += loss.item()\n",
        "    return valid_loss/len(data_loader.sampler)"
      ],
      "execution_count": 67,
      "outputs": []
    },
    {
      "cell_type": "code",
      "metadata": {
        "id": "VPpQdTfOLNUM"
      },
      "source": [
        "epoch_number = 8\n",
        "train_mean_loss = np.array(epoch_number*[0.0])\n",
        "validation_mean_loss = np.array(epoch_number*[0.0])\n",
        "lower_loss = 100\n",
        "kfold = KFold(n_splits=k_folds, shuffle=True)"
      ],
      "execution_count": 68,
      "outputs": []
    },
    {
      "cell_type": "code",
      "metadata": {
        "colab": {
          "base_uri": "https://localhost:8080/"
        },
        "id": "WvHBlLveLNUN",
        "scrolled": true,
        "outputId": "dea21608-d891-41ab-a53e-d39ac212516b"
      },
      "source": [
        "for epoch in range(epoch_number):\n",
        "    print(f'EPOCH {epoch + 1}\\n')\n",
        "    for fold, (train_ids, test_ids) in enumerate(kfold.split(dt)):\n",
        "        print(len(train_ids))\n",
        "        print(f'FOLD {fold}')\n",
        "        print('--------------------------------')\n",
        "        \n",
        "        # Sample elements randomly from a given list of ids, no replacement.\n",
        "        train_subsampler = torch.utils.data.SubsetRandomSampler(train_ids)\n",
        "        test_subsampler = torch.utils.data.SubsetRandomSampler(test_ids)\n",
        "        \n",
        "        train_loader, validation_loader, test_loader = dataset(dt, train_subsampler, test_subsampler)\n",
        "\n",
        "        # train the model #\n",
        "        train_mean_loss[epoch] = train_mean_loss[epoch] + train_epoch(train_loader)\n",
        "        \n",
        "        # validate the model #\n",
        "        validation_mean_loss[epoch] = validation_mean_loss[epoch] + validation_epoch(validation_loader)\n",
        "\n",
        "    #scheduler.step(train_mean_loss[0, epoch])\n",
        "    scheduler.step(validation_mean_loss[epoch])\n",
        "    \n",
        "    train_mean_loss[epoch] = train_mean_loss[epoch]\n",
        "    validation_mean_loss[epoch] = validation_mean_loss[epoch]\n",
        "    \n",
        "    times_tamp_time = time.strftime(\"%H%M%S\")\n",
        "    times_tamp_date = time.strftime(\"%d%m%Y\")\n",
        "    times_tamp_end = times_tamp_date + '-' + times_tamp_time + str(epoch)\n",
        "\n",
        "    if validation_mean_loss[epoch] < lower_loss:\n",
        "        lower_loss = validation_mean_loss[epoch]\n",
        "        torch.save({'epoch': epoch + 1, 'state_dict': model.state_dict(), 'best_loss': lower_loss, 'optimizer' : optimizer.state_dict()}, model_folder + 'm-' + times_tamp_end + '.pth.tar')\n",
        "        print ('Epoch [' + str(epoch + 1) + '] [save] [' + times_tamp_end + '] loss= ' + str(lower_loss))\n",
        "    else:\n",
        "        print ('Epoch [' + str(epoch + 1) + '] [----] [' + times_tamp_end + '] loss= ' + str(lower_loss))"
      ],
      "execution_count": 69,
      "outputs": [
        {
          "output_type": "stream",
          "text": [
            "EPOCH 1\n",
            "\n",
            "66\n",
            "FOLD 0\n",
            "--------------------------------\n",
            "67\n",
            "FOLD 1\n",
            "--------------------------------\n",
            "67\n",
            "FOLD 2\n",
            "--------------------------------\n",
            "Epoch [1] [save] [24052021-2225480] loss= 2.1963544321809225\n",
            "EPOCH 2\n",
            "\n",
            "66\n",
            "FOLD 0\n",
            "--------------------------------\n",
            "67\n",
            "FOLD 1\n",
            "--------------------------------\n",
            "67\n",
            "FOLD 2\n",
            "--------------------------------\n",
            "Epoch [2] [save] [24052021-2225591] loss= 1.4524124535140972\n",
            "EPOCH 3\n",
            "\n",
            "66\n",
            "FOLD 0\n",
            "--------------------------------\n",
            "67\n",
            "FOLD 1\n",
            "--------------------------------\n",
            "67\n",
            "FOLD 2\n",
            "--------------------------------\n",
            "Epoch [3] [save] [24052021-2226102] loss= 1.0446191383610408\n",
            "EPOCH 4\n",
            "\n",
            "66\n",
            "FOLD 0\n",
            "--------------------------------\n",
            "67\n",
            "FOLD 1\n",
            "--------------------------------\n",
            "67\n",
            "FOLD 2\n",
            "--------------------------------\n",
            "Epoch [4] [----] [24052021-2226213] loss= 1.0446191383610408\n",
            "EPOCH 5\n",
            "\n",
            "66\n",
            "FOLD 0\n",
            "--------------------------------\n",
            "67\n",
            "FOLD 1\n",
            "--------------------------------\n",
            "67\n",
            "FOLD 2\n",
            "--------------------------------\n",
            "Epoch [5] [save] [24052021-2226314] loss= 0.7053739273344795\n",
            "EPOCH 6\n",
            "\n",
            "66\n",
            "FOLD 0\n",
            "--------------------------------\n",
            "67\n",
            "FOLD 1\n",
            "--------------------------------\n",
            "67\n",
            "FOLD 2\n",
            "--------------------------------\n",
            "Epoch [6] [----] [24052021-2226425] loss= 0.7053739273344795\n",
            "EPOCH 7\n",
            "\n",
            "66\n",
            "FOLD 0\n",
            "--------------------------------\n",
            "67\n",
            "FOLD 1\n",
            "--------------------------------\n",
            "67\n",
            "FOLD 2\n",
            "--------------------------------\n",
            "Epoch [7] [----] [24052021-2226536] loss= 0.7053739273344795\n",
            "EPOCH 8\n",
            "\n",
            "66\n",
            "FOLD 0\n",
            "--------------------------------\n",
            "67\n",
            "FOLD 1\n",
            "--------------------------------\n",
            "67\n",
            "FOLD 2\n",
            "--------------------------------\n",
            "Epoch [8] [----] [24052021-2227037] loss= 0.7053739273344795\n"
          ],
          "name": "stdout"
        }
      ]
    },
    {
      "cell_type": "code",
      "metadata": {
        "colab": {
          "base_uri": "https://localhost:8080/",
          "height": 295
        },
        "id": "R8mwHHWfLNUO",
        "outputId": "e15e6cb0-3dfa-42d1-a70f-449c8c5fb5c9"
      },
      "source": [
        "# Plot the complexity graph\n",
        "plt.plot(train_mean_loss, label = \"train\")\n",
        "plt.plot(validation_mean_loss, label = \"validation\")\n",
        "plt.xlabel('epoch')\n",
        "# Set the y axis label of the current axis.\n",
        "plt.ylabel('error')\n",
        "# Set a title of the current axes.\n",
        "plt.title('Complexity graph')\n",
        "# show a legend on the plot\n",
        "plt.legend()\n",
        "# Display a figure.\n",
        "plt.show()"
      ],
      "execution_count": 70,
      "outputs": [
        {
          "output_type": "display_data",
          "data": {
            "image/png": "[encoded data removed]",
            "text/plain": [
              "<Figure size 432x288 with 1 Axes>"
            ]
          },
          "metadata": {
            "tags": [],
            "needs_background": "light"
          }
        }
      ]
    },
    {
      "cell_type": "code",
      "metadata": {
        "colab": {
          "base_uri": "https://localhost:8080/"
        },
        "id": "lbVtrIfWOfMr",
        "outputId": "ee9e84b6-4b3b-4adf-939a-3c7f66b15563"
      },
      "source": [
        "print(validation_mean_loss)\n",
        "print(train_mean_loss)"
      ],
      "execution_count": 71,
      "outputs": [
        {
          "output_type": "stream",
          "text": [
            "[2.19635443 1.45241245 1.04461914 1.47944011 0.70537393 1.04877111\n",
            " 1.62108249 1.00353811]\n",
            "[1.97236567 1.32171814 1.11907744 0.85830814 0.45050728 0.50222267\n",
            " 0.52167773 0.45497935]\n"
          ],
          "name": "stdout"
        }
      ]
    },
    {
      "cell_type": "markdown",
      "metadata": {
        "id": "2HP0n99ALNUO"
      },
      "source": [
        "### Eval"
      ]
    },
    {
      "cell_type": "code",
      "metadata": {
        "colab": {
          "base_uri": "https://localhost:8080/"
        },
        "id": "dayJcNzhLNUP",
        "outputId": "61d41ed2-c8c6-4d6b-ea91-aa29d1f5b3b9"
      },
      "source": [
        "checkpoint = model_folder + \"m-24052021-2226314.pth.tar\"\n",
        "modelCheckpoint = torch.load(checkpoint)\n",
        "model.load_state_dict(modelCheckpoint['state_dict'])"
      ],
      "execution_count": 74,
      "outputs": [
        {
          "output_type": "execute_result",
          "data": {
            "text/plain": [
              "<All keys matched successfully>"
            ]
          },
          "metadata": {
            "tags": []
          },
          "execution_count": 74
        }
      ]
    },
    {
      "cell_type": "code",
      "metadata": {
        "id": "yOSbFv3CLNUP"
      },
      "source": [
        "dt = RenaleDataset(data_dir, dir+\"SampleSubmission.csv\", transform=test_transforms, smoothing=0.0, num_class=num_class, trainning=False)\n",
        "submission_loader = DataLoader(dataset=dt, shuffle=False, batch_size=batch_size)\n",
        "\n",
        "predicted_output = torch.FloatTensor().to(device)\n",
        "\n",
        "model.eval()\n",
        "\n",
        "for feature in submission_loader:\n",
        "    \n",
        "    feature = feature.to(device)\n",
        "    out = model(feature)\n",
        "    predicted_output = torch.cat((predicted_output, out.data), 0)\n",
        "\n",
        "targets = pd.read_csv(dir+\"SampleSubmission.csv\")\n",
        "targets[\"target\"] = predicted_output.to(\"cpu\").numpy()\n",
        "targets.to_csv(dir+\"SampleSubmission.csv\", index=False)"
      ],
      "execution_count": 75,
      "outputs": []
    },
    {
      "cell_type": "code",
      "metadata": {
        "id": "8h0lQIBoLNUQ"
      },
      "source": [
        ""
      ],
      "execution_count": 73,
      "outputs": []
    }
  ]
}